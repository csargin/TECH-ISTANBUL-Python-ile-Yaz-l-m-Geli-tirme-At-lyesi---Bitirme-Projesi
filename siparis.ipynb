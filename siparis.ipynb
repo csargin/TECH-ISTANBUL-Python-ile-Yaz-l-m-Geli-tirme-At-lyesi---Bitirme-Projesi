{
  "nbformat": 4,
  "nbformat_minor": 0,
  "metadata": {
    "colab": {
      "provenance": [],
      "authorship_tag": "ABX9TyM1ilbQRgZB3dzoLSN7Xd61",
      "include_colab_link": true
    },
    "kernelspec": {
      "name": "python3",
      "display_name": "Python 3"
    },
    "language_info": {
      "name": "python"
    }
  },
  "cells": [
    {
      "cell_type": "markdown",
      "metadata": {
        "id": "view-in-github",
        "colab_type": "text"
      },
      "source": [
        "<a href=\"https://colab.research.google.com/github/csargin/TECH-ISTANBUL-Python-ile-Yaz-l-m-Geli-tirme-At-lyesi---Bitirme-Projesi/blob/main/siparis.ipynb\" target=\"_parent\"><img src=\"https://colab.research.google.com/assets/colab-badge.svg\" alt=\"Open In Colab\"/></a>"
      ]
    },
    {
      "cell_type": "code",
      "execution_count": 5,
      "metadata": {
        "colab": {
          "base_uri": "https://localhost:8080/"
        },
        "id": "34WDo-Kti_k6",
        "outputId": "a41c409b-fca4-439c-ac26-8fb8d72140d3"
      },
      "outputs": [
        {
          "output_type": "stream",
          "name": "stdout",
          "text": [
            "Ne almak istersiniz? (Pantolon/Gömlek/Ayakkabı/Tişört/Çorap/Mont/Tamam): tamam\n",
            "\n",
            "Sipariş Özeti:\n",
            "Toplam Ücret: 0 TL\n"
          ]
        }
      ],
      "source": [
        "\"\"\"\n",
        "sipariş alan örnek bir program kodlayacağız. Program, müşterinin seçtiği\n",
        "Kıyafet çeşitleri ve ekstra seçeneklere göre toplam siparişi ve ücretini hesaplayacak.\n",
        "\"\"\"\n",
        "\n",
        "def hesapla():\n",
        "  toplam_ucret = 0\n",
        "  urunler = []\n",
        "\n",
        "  while True:\n",
        "    secim = input(\"Ne almak istersiniz? (Pantolon/Gömlek/Ayakkabı/Tişört/Çorap/Mont/Tamam): \")\n",
        "\n",
        "    if secim.lower() == \"pantolon\":\n",
        "      toplam_ucret += 1350\n",
        "      urunler.append(\"Pantolon\")\n",
        "    elif secim.lower() == \"gömlek\":\n",
        "      toplam_ucret += 850\n",
        "      urunler.append(\"Gömlek\")\n",
        "    elif secim.lower() == \"ayakkabı\":\n",
        "      toplam_ucret += 1500\n",
        "      urunler.append(\"Ayakkabı\")\n",
        "    elif secim.lower() == \"tişört\":\n",
        "      toplam_ucret += 250\n",
        "      urunler.append(\"Tişört\")\n",
        "    elif secim.lower() == \"çorap\":\n",
        "      toplam_ucret += 150\n",
        "      urunler.append(\"Çorap\")\n",
        "    elif secim.lower() == \"mont\":\n",
        "      toplam_ucret += 850\n",
        "      urunler.append(\"Mont\")\n",
        "    elif secim.lower() == \"tamam\":\n",
        "      break\n",
        "    else:\n",
        "      print(\"Geçersiz seçenek. Lütfen tekrar deneyin.\")\n",
        "\n",
        "  print(\"\\nSipariş Özeti:\")\n",
        "  for urun in urunler:\n",
        "    print(urun)\n",
        "  print(\"Toplam Ücret:\", toplam_ucret, \"TL\")\n",
        "\n",
        "hesapla()"
      ]
    }
  ]
}